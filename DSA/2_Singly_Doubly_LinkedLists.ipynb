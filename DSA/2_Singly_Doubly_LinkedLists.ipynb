{
  "nbformat": 4,
  "nbformat_minor": 0,
  "metadata": {
    "colab": {
      "provenance": []
    },
    "kernelspec": {
      "name": "python3",
      "display_name": "Python 3"
    },
    "language_info": {
      "name": "python"
    }
  },
  "cells": [
    {
      "cell_type": "code",
      "execution_count": 2,
      "metadata": {
        "id": "R26sCWjCGyQ3"
      },
      "outputs": [],
      "source": [
        "# Singly Linked List\n",
        "\n",
        "class SinglyNode:\n",
        "\n",
        "    def __init__(self, val, next=None):\n",
        "        self.val = val\n",
        "        self.next = next\n",
        "\n",
        "    def __str__(self):\n",
        "        return str(self.val)"
      ]
    },
    {
      "cell_type": "code",
      "source": [
        "Head = SinglyNode(1)\n",
        "A = SinglyNode(2)\n",
        "B = SinglyNode(3)\n",
        "C = SinglyNode(4)\n",
        "\n",
        "Head.next = A\n",
        "A.next = B\n",
        "B.next = C\n",
        "\n",
        "print(Head)"
      ],
      "metadata": {
        "colab": {
          "base_uri": "https://localhost:8080/"
        },
        "id": "xF3ir0VWZpYE",
        "outputId": "4b644218-e2a9-4db0-a869-0b6ac9e662c8"
      },
      "execution_count": 3,
      "outputs": [
        {
          "output_type": "stream",
          "name": "stdout",
          "text": [
            "1\n"
          ]
        }
      ]
    },
    {
      "cell_type": "code",
      "source": [
        "# Traverse the list - O(n)\n",
        "\n",
        "curr = Head\n",
        "\n",
        "while curr:\n",
        "    print(curr)\n",
        "    curr = curr.next"
      ],
      "metadata": {
        "colab": {
          "base_uri": "https://localhost:8080/"
        },
        "id": "Psn0D6nAaUcn",
        "outputId": "5149d394-7100-4ae9-9497-4276c43ca422"
      },
      "execution_count": 4,
      "outputs": [
        {
          "output_type": "stream",
          "name": "stdout",
          "text": [
            "1\n",
            "2\n",
            "3\n",
            "4\n"
          ]
        }
      ]
    },
    {
      "cell_type": "code",
      "source": [
        "# Display linked List - O(n)\n",
        "def display(head):\n",
        "    curr = head\n",
        "    elements = []\n",
        "\n",
        "    while curr:\n",
        "        elements.append(str(curr.val))\n",
        "        curr = curr.next\n",
        "    print(' -> '.join(elements))\n",
        "\n",
        "display(Head)"
      ],
      "metadata": {
        "id": "iYGPMeIKarTr",
        "colab": {
          "base_uri": "https://localhost:8080/"
        },
        "outputId": "c91d131e-2983-44eb-c593-5e712636948a"
      },
      "execution_count": 8,
      "outputs": [
        {
          "output_type": "stream",
          "name": "stdout",
          "text": [
            "1 -> 2 -> 3 -> 4\n"
          ]
        }
      ]
    },
    {
      "cell_type": "code",
      "source": [
        "# search for node value - O(n)\n",
        "\n",
        "def search(head, value):\n",
        "\n",
        "    curr = head\n",
        "\n",
        "    while curr:\n",
        "        if value == curr.val:\n",
        "            return True\n",
        "        else:\n",
        "            curr = curr.next\n",
        "\n",
        "    return False\n",
        "\n",
        "print(search(Head, 7))\n",
        "print(search(Head, 4))"
      ],
      "metadata": {
        "colab": {
          "base_uri": "https://localhost:8080/"
        },
        "id": "vTmaBthrJJJU",
        "outputId": "e3826d2a-e1ac-4b52-9eb8-7dba609be663"
      },
      "execution_count": 23,
      "outputs": [
        {
          "output_type": "stream",
          "name": "stdout",
          "text": [
            "False\n",
            "True\n"
          ]
        }
      ]
    },
    {
      "cell_type": "code",
      "source": [
        "# Doubly Linked Lists\n",
        "\n",
        "class DoublyNode:\n",
        "    def __init__(self, val, next=None, prev=None):\n",
        "        self.val = val\n",
        "        self.next = next\n",
        "        self.prev = prev\n",
        "\n",
        "    def __str__(self):\n",
        "        return str(self.val)"
      ],
      "metadata": {
        "id": "W1TcVeP4KJps"
      },
      "execution_count": 24,
      "outputs": []
    },
    {
      "cell_type": "code",
      "source": [
        "head = tail = DoublyNode(1)\n",
        "print(head)\n",
        "print(tail)"
      ],
      "metadata": {
        "colab": {
          "base_uri": "https://localhost:8080/"
        },
        "id": "WMzV-BPSX3Zo",
        "outputId": "1a7f02a1-b29b-4cc3-bb54-4ccb7b6a99ea"
      },
      "execution_count": 25,
      "outputs": [
        {
          "output_type": "stream",
          "name": "stdout",
          "text": [
            "1\n",
            "1\n"
          ]
        }
      ]
    },
    {
      "cell_type": "code",
      "source": [
        "def display(head):\n",
        "    curr = head\n",
        "    elem = []\n",
        "    while curr:\n",
        "        elem.append(str(curr.val))\n",
        "        curr = curr.next\n",
        "    print(' <-> '.join(elem))\n",
        "\n",
        "display(head)"
      ],
      "metadata": {
        "colab": {
          "base_uri": "https://localhost:8080/"
        },
        "id": "GO-kVLZ-YLZk",
        "outputId": "735cd775-fe4d-46f6-bcf3-3272301fe1e0"
      },
      "execution_count": 26,
      "outputs": [
        {
          "output_type": "stream",
          "name": "stdout",
          "text": [
            "1\n"
          ]
        }
      ]
    },
    {
      "cell_type": "code",
      "source": [
        "# Insert at beginning - O(1)\n",
        "\n",
        "def insert_at_beginning(head, tail, val):\n",
        "    new_node = DoublyNode(val, next=head)\n",
        "    head.prev = new_node\n",
        "    return new_node, tail\n",
        "\n",
        "head, tail = insert_at_beginning(head, tail, 3)\n",
        "display(head)"
      ],
      "metadata": {
        "colab": {
          "base_uri": "https://localhost:8080/"
        },
        "id": "Vlbtz_9_YaO9",
        "outputId": "ce7a2c2d-b607-4bc4-9f85-1f19c6b7ad33"
      },
      "execution_count": 27,
      "outputs": [
        {
          "output_type": "stream",
          "name": "stdout",
          "text": [
            "3 <-> 1\n"
          ]
        }
      ]
    },
    {
      "cell_type": "code",
      "source": [
        "# Insert at end - O(1)\n",
        "def insert_at_end(head, tail, val):\n",
        "    new_node = DoublyNode(val, prev=tail)\n",
        "    tail.next = new_node\n",
        "    return head ,new_node\n",
        "\n",
        "head, tail = insert_at_end(head, tail, 10)\n",
        "display(head)\n",
        "\n"
      ],
      "metadata": {
        "colab": {
          "base_uri": "https://localhost:8080/"
        },
        "id": "8hrsDwP5ZHTB",
        "outputId": "d508cafc-1922-4386-83e8-176772e6631c"
      },
      "execution_count": 28,
      "outputs": [
        {
          "output_type": "stream",
          "name": "stdout",
          "text": [
            "3 <-> 1 <-> 10\n"
          ]
        }
      ]
    }
  ]
}