{
  "nbformat": 4,
  "nbformat_minor": 0,
  "metadata": {
    "colab": {
      "provenance": []
    },
    "kernelspec": {
      "name": "python3",
      "display_name": "Python 3"
    },
    "language_info": {
      "name": "python"
    }
  },
  "cells": [
    {
      "cell_type": "markdown",
      "source": [
        "### **Graphs**"
      ],
      "metadata": {
        "id": "--LNgY4cPKdi"
      }
    },
    {
      "cell_type": "code",
      "execution_count": 2,
      "metadata": {
        "id": "FlWyRWUSH8cx"
      },
      "outputs": [],
      "source": [
        "# Array of Edges (Directed)\n",
        "n = 8\n",
        "\n",
        "A = [[0, 1], [1, 2], [0, 3], [3, 4], [3, 6], [3, 7], [4, 2], [4, 5], [5, 2]]"
      ]
    },
    {
      "cell_type": "code",
      "source": [
        "# Convert Array of Edges -> Adjacency Matrix\n",
        "\n",
        "M = []\n",
        "\n",
        "for i in range(n):\n",
        "    M.append([0] * n)\n",
        "\n",
        "for u, v in A:\n",
        "    M[u][v] = 1\n",
        "\n",
        "\n",
        "    # M[v][u] = 1 # if the graph is undirected then specify this as well.\n",
        "M"
      ],
      "metadata": {
        "colab": {
          "base_uri": "https://localhost:8080/"
        },
        "id": "gTPKGukxPcDa",
        "outputId": "916572f9-a112-4748-c31b-b1689b871ce1"
      },
      "execution_count": 4,
      "outputs": [
        {
          "output_type": "execute_result",
          "data": {
            "text/plain": [
              "[[0, 1, 0, 1, 0, 0, 0, 0],\n",
              " [0, 0, 1, 0, 0, 0, 0, 0],\n",
              " [0, 0, 0, 0, 0, 0, 0, 0],\n",
              " [0, 0, 0, 0, 1, 0, 1, 1],\n",
              " [0, 0, 1, 0, 0, 1, 0, 0],\n",
              " [0, 0, 1, 0, 0, 0, 0, 0],\n",
              " [0, 0, 0, 0, 0, 0, 0, 0],\n",
              " [0, 0, 0, 0, 0, 0, 0, 0]]"
            ]
          },
          "metadata": {},
          "execution_count": 4
        }
      ]
    },
    {
      "cell_type": "code",
      "source": [
        "# Convert Array of Edges -> Adjacency List (because this is more useful)\n",
        "\n",
        "from collections import defaultdict\n",
        "\n",
        "D = defaultdict(list)\n",
        "\n",
        "for u, v in A:\n",
        "    D[u].append(v)\n",
        "\n",
        "    # D[v].append(u) # if the graph is undirected then specify this as well.\n",
        "\n",
        "D"
      ],
      "metadata": {
        "colab": {
          "base_uri": "https://localhost:8080/"
        },
        "id": "Ub2ULlavPnLK",
        "outputId": "d763dd25-4f85-4426-898a-bd88867628e3"
      },
      "execution_count": 9,
      "outputs": [
        {
          "output_type": "execute_result",
          "data": {
            "text/plain": [
              "defaultdict(list, {0: [1, 3], 1: [2], 3: [4, 6, 7], 4: [2, 5], 5: [2]})"
            ]
          },
          "metadata": {},
          "execution_count": 9
        }
      ]
    },
    {
      "cell_type": "code",
      "source": [
        "D[3]"
      ],
      "metadata": {
        "colab": {
          "base_uri": "https://localhost:8080/"
        },
        "id": "VTjmhEQeQIls",
        "outputId": "4d95465f-a7c8-4b7c-91ed-661d66d79a9b"
      },
      "execution_count": 7,
      "outputs": [
        {
          "output_type": "execute_result",
          "data": {
            "text/plain": [
              "[4, 6, 7]"
            ]
          },
          "metadata": {},
          "execution_count": 7
        }
      ]
    },
    {
      "cell_type": "code",
      "source": [
        "M[3]"
      ],
      "metadata": {
        "colab": {
          "base_uri": "https://localhost:8080/"
        },
        "id": "ZfzIJxkAQOhJ",
        "outputId": "d6fbde85-a480-43d2-ab8d-68d579880a9f"
      },
      "execution_count": 8,
      "outputs": [
        {
          "output_type": "execute_result",
          "data": {
            "text/plain": [
              "[0, 0, 0, 0, 1, 0, 1, 1]"
            ]
          },
          "metadata": {},
          "execution_count": 8
        }
      ]
    },
    {
      "cell_type": "code",
      "source": [
        "# DFS with recursion - O(V + E) where V is number of nodes and E is the number of edges\n",
        "\n",
        "def dfs_recursive(node):\n",
        "    print(node)\n",
        "    for nei_node in D[node]:\n",
        "        if nei_node not in seen:\n",
        "            seen.add(nei_node)\n",
        "            dfs_recursive(nei_node)\n",
        "\n",
        "source = 0\n",
        "seen = set()\n",
        "seen.add(source)\n",
        "dfs_recursive(source)"
      ],
      "metadata": {
        "colab": {
          "base_uri": "https://localhost:8080/"
        },
        "id": "wVnPGauSQPYZ",
        "outputId": "d73ea788-91e9-4909-af8e-619f6217ae28"
      },
      "execution_count": 10,
      "outputs": [
        {
          "output_type": "stream",
          "name": "stdout",
          "text": [
            "0\n",
            "1\n",
            "2\n",
            "3\n",
            "4\n",
            "5\n",
            "6\n",
            "7\n"
          ]
        }
      ]
    },
    {
      "cell_type": "code",
      "source": [
        "# DFS with iteration with stack - O(V + E)\n",
        "\n",
        "source = 0\n",
        "seen = set()\n",
        "seen.add(source)\n",
        "stack = [source]\n",
        "\n",
        "while stack:\n",
        "    node = stack.pop()\n",
        "    print(node)\n",
        "    for nei_node in D[node]:\n",
        "        if nei_node not in seen:\n",
        "            seen.add(nei_node)\n",
        "            stack.append(nei_node)"
      ],
      "metadata": {
        "colab": {
          "base_uri": "https://localhost:8080/"
        },
        "id": "1KxY_1SdQ1zR",
        "outputId": "ba4a5f91-74fc-44e7-d6a4-bca83393eec7"
      },
      "execution_count": 12,
      "outputs": [
        {
          "output_type": "stream",
          "name": "stdout",
          "text": [
            "0\n",
            "3\n",
            "7\n",
            "6\n",
            "4\n",
            "5\n",
            "2\n",
            "1\n"
          ]
        }
      ]
    },
    {
      "cell_type": "code",
      "source": [
        "# BFS with Queue - O(V + E)\n",
        "\n",
        "source = 0\n",
        "from collections import deque\n",
        "\n",
        "seen = set()\n",
        "seen.add(source)\n",
        "q = deque()\n",
        "q.append(source)\n",
        "\n",
        "while q:\n",
        "    node = q.popleft()\n",
        "    print(node)\n",
        "    for nei_node in D[node]:\n",
        "        if nei_node not in seen:\n",
        "            seen.add(nei_node)\n",
        "            q.append(nei_node)"
      ],
      "metadata": {
        "colab": {
          "base_uri": "https://localhost:8080/"
        },
        "id": "mMJfGxiZRecF",
        "outputId": "16157ee9-60d3-453e-8e34-cf4cf9b02cf1"
      },
      "execution_count": 13,
      "outputs": [
        {
          "output_type": "stream",
          "name": "stdout",
          "text": [
            "0\n",
            "1\n",
            "3\n",
            "2\n",
            "4\n",
            "6\n",
            "7\n",
            "5\n"
          ]
        }
      ]
    },
    {
      "cell_type": "code",
      "source": [
        "class Node:\n",
        "    def __init__(self, value):\n",
        "        self.value = value\n",
        "        self.neighbors = []\n",
        "\n",
        "    def __str__(self):\n",
        "        return f\"Node({self.value})\"\n",
        "\n",
        "    def display(self):\n",
        "        connections = [node.value for node in self.neighbors]\n",
        "        return f\"{self.value} is connected to: {connections}\"\n",
        "\n",
        "\n",
        "A = Node('A')\n",
        "B = Node('B')\n",
        "C = Node('C')\n",
        "D = Node('D')\n",
        "\n",
        "A.neighbors.append(B)\n",
        "B.neighbors.append(A)\n",
        "\n",
        "C.neighbors.append(D)\n",
        "D.neighbors.append(C)\n",
        "\n",
        "A.display()"
      ],
      "metadata": {
        "colab": {
          "base_uri": "https://localhost:8080/",
          "height": 35
        },
        "id": "4OrWj8lfR-c2",
        "outputId": "ccbb62a7-5cdf-4676-f30b-edb201270c7f"
      },
      "execution_count": 18,
      "outputs": [
        {
          "output_type": "execute_result",
          "data": {
            "text/plain": [
              "\"A is connected to: ['B']\""
            ],
            "application/vnd.google.colaboratory.intrinsic+json": {
              "type": "string"
            }
          },
          "metadata": {},
          "execution_count": 18
        }
      ]
    },
    {
      "cell_type": "code",
      "source": [],
      "metadata": {
        "id": "rq5ZVYnCS3bL"
      },
      "execution_count": null,
      "outputs": []
    }
  ]
}