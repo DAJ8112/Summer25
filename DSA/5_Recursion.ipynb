{
  "nbformat": 4,
  "nbformat_minor": 0,
  "metadata": {
    "colab": {
      "provenance": []
    },
    "kernelspec": {
      "name": "python3",
      "display_name": "Python 3"
    },
    "language_info": {
      "name": "python"
    }
  },
  "cells": [
    {
      "cell_type": "markdown",
      "source": [
        "### **Fibonacci**\n",
        "\n",
        "F(0) = 0<br>\n",
        "F(1) = 1<br>\n",
        "n > 1: F(n-1) + F(n-2)\n",
        "\n",
        "Time complexity: O(2^n), Space Complexity: O(n)"
      ],
      "metadata": {
        "id": "LH1h3M0mJ6lB"
      }
    },
    {
      "cell_type": "code",
      "source": [
        "def fibonacci(n):\n",
        "    if n==0:\n",
        "        return 0\n",
        "    elif n==1:\n",
        "        return 1\n",
        "    else:\n",
        "        return fibonacci(n-1) + fibonacci(n-2)\n",
        "\n",
        "\n",
        "print(fibonacci(10))"
      ],
      "metadata": {
        "colab": {
          "base_uri": "https://localhost:8080/"
        },
        "id": "FGExlR53H0mt",
        "outputId": "5bc8de3b-1b66-426f-b9d6-577c0e908f52"
      },
      "execution_count": 3,
      "outputs": [
        {
          "output_type": "stream",
          "name": "stdout",
          "text": [
            "55\n"
          ]
        }
      ]
    },
    {
      "cell_type": "markdown",
      "source": [
        "### **Linkedin Lists**\n",
        "\n",
        "Time complexity: O(n), Space: O(n)"
      ],
      "metadata": {
        "id": "9IfAVf3VKIg-"
      }
    },
    {
      "cell_type": "code",
      "source": [
        "class SinglyLinkedList:\n",
        "    def __init__(self, val, next=None):\n",
        "        self.val = val\n",
        "        self.next = next\n",
        "\n",
        "    def __str__(self):\n",
        "        return str(self.val)\n",
        "\n",
        "\n",
        "head = SinglyLinkedList(10)\n",
        "A = SinglyLinkedList(20)\n",
        "B = SinglyLinkedList(30)\n",
        "C = SinglyLinkedList(40)\n",
        "\n",
        "head.next = A\n",
        "A.next = B\n",
        "B.next = C\n",
        "\n",
        "i = head\n",
        "elem = []\n",
        "while i:\n",
        "    elem.append(str(i.val))\n",
        "    i = i.next\n",
        "\n",
        "print(\" -> \".join(elem))"
      ],
      "metadata": {
        "colab": {
          "base_uri": "https://localhost:8080/"
        },
        "id": "zMTe-WITIha-",
        "outputId": "ba388122-3b06-4cdf-b1a4-a98a1cc6d16c"
      },
      "execution_count": 8,
      "outputs": [
        {
          "output_type": "stream",
          "name": "stdout",
          "text": [
            "10 -> 20 -> 30 -> 40\n"
          ]
        }
      ]
    },
    {
      "cell_type": "code",
      "source": [
        "def reverse(node):\n",
        "    if not node:\n",
        "        return\n",
        "\n",
        "    reverse(node.next)\n",
        "    print(node)\n",
        "\n",
        "\n",
        "reverse(head)"
      ],
      "metadata": {
        "colab": {
          "base_uri": "https://localhost:8080/"
        },
        "id": "PTyIkj8oIQ_3",
        "outputId": "bce1f346-2637-4205-97e2-458cf94f1440"
      },
      "execution_count": 12,
      "outputs": [
        {
          "output_type": "stream",
          "name": "stdout",
          "text": [
            "40\n",
            "30\n",
            "20\n",
            "10\n"
          ]
        }
      ]
    }
  ]
}