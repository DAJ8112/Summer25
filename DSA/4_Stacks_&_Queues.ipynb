{
  "nbformat": 4,
  "nbformat_minor": 0,
  "metadata": {
    "colab": {
      "provenance": []
    },
    "kernelspec": {
      "name": "python3",
      "display_name": "Python 3"
    },
    "language_info": {
      "name": "python"
    }
  },
  "cells": [
    {
      "cell_type": "markdown",
      "source": [
        "### **Stacks**\n",
        "\n",
        "LIFO - Last In First Out"
      ],
      "metadata": {
        "id": "MLrVxM819GIk"
      }
    },
    {
      "cell_type": "code",
      "execution_count": 1,
      "metadata": {
        "colab": {
          "base_uri": "https://localhost:8080/"
        },
        "id": "shZUUoObIkpK",
        "outputId": "f3f6c8f4-03ab-42c6-c8b1-7c31a3a88536"
      },
      "outputs": [
        {
          "output_type": "stream",
          "name": "stdout",
          "text": [
            "[]\n"
          ]
        }
      ],
      "source": [
        "stk = []\n",
        "\n",
        "print(stk)"
      ]
    },
    {
      "cell_type": "code",
      "source": [
        "# Append to the top of Stack - O(1)\n",
        "stk.append(1)\n",
        "\n",
        "print(stk)"
      ],
      "metadata": {
        "colab": {
          "base_uri": "https://localhost:8080/"
        },
        "id": "8XNNrxoe9KnZ",
        "outputId": "5bb68020-233c-4dce-ebd8-011b7fc03f16"
      },
      "execution_count": 2,
      "outputs": [
        {
          "output_type": "stream",
          "name": "stdout",
          "text": [
            "[1]\n"
          ]
        }
      ]
    },
    {
      "cell_type": "code",
      "source": [
        "stk.append(5)\n",
        "stk.append(10)\n",
        "stk.append(15)\n",
        "\n",
        "print(stk)"
      ],
      "metadata": {
        "colab": {
          "base_uri": "https://localhost:8080/"
        },
        "id": "JqomvPuA9RQW",
        "outputId": "25215353-8fe9-4c60-e22d-5ac8c5d171d2"
      },
      "execution_count": 3,
      "outputs": [
        {
          "output_type": "stream",
          "name": "stdout",
          "text": [
            "[1, 5, 10, 15]\n"
          ]
        }
      ]
    },
    {
      "cell_type": "code",
      "source": [
        "# Pop from stack - O(1)\n",
        "\n",
        "x = stk.pop()\n",
        "\n",
        "print(x)\n",
        "print(stk)"
      ],
      "metadata": {
        "colab": {
          "base_uri": "https://localhost:8080/"
        },
        "id": "USt0gMvx9UF0",
        "outputId": "865b62f9-1494-4862-8f28-fe1e720f33d3"
      },
      "execution_count": 4,
      "outputs": [
        {
          "output_type": "stream",
          "name": "stdout",
          "text": [
            "15\n",
            "[1, 5, 10]\n"
          ]
        }
      ]
    },
    {
      "cell_type": "code",
      "source": [
        "# Ask what's on the top of the stack - O(1)\n",
        "\n",
        "print(stk[-1])"
      ],
      "metadata": {
        "colab": {
          "base_uri": "https://localhost:8080/"
        },
        "id": "uh0mKsQO9cKs",
        "outputId": "417a36a6-d48f-4835-ae33-36a9885526e4"
      },
      "execution_count": 5,
      "outputs": [
        {
          "output_type": "stream",
          "name": "stdout",
          "text": [
            "10\n"
          ]
        }
      ]
    },
    {
      "cell_type": "code",
      "source": [
        "# Check if stack's empty or not - O(1)\n",
        "if stk:\n",
        "    print(True)"
      ],
      "metadata": {
        "colab": {
          "base_uri": "https://localhost:8080/"
        },
        "id": "R3Juf50_9mmW",
        "outputId": "c27ecb75-6e89-49c6-ed34-7d42752e356d"
      },
      "execution_count": 6,
      "outputs": [
        {
          "output_type": "stream",
          "name": "stdout",
          "text": [
            "True\n"
          ]
        }
      ]
    },
    {
      "cell_type": "code",
      "source": [
        "stk2 = []\n",
        "\n",
        "if stk2:\n",
        "    print(True)"
      ],
      "metadata": {
        "id": "hv3IKmZz9qoK"
      },
      "execution_count": 7,
      "outputs": []
    },
    {
      "cell_type": "markdown",
      "source": [
        "### **Queues**\n",
        "\n",
        "First In First Out"
      ],
      "metadata": {
        "id": "mIE6zUII90oQ"
      }
    },
    {
      "cell_type": "code",
      "source": [
        "from collections import deque\n",
        "\n",
        "q = deque()\n",
        "\n",
        "print(q)"
      ],
      "metadata": {
        "colab": {
          "base_uri": "https://localhost:8080/"
        },
        "id": "DwcAAlwa9vAo",
        "outputId": "ef011375-62be-4829-be61-e35f7ac894ed"
      },
      "execution_count": 8,
      "outputs": [
        {
          "output_type": "stream",
          "name": "stdout",
          "text": [
            "deque([])\n"
          ]
        }
      ]
    },
    {
      "cell_type": "code",
      "source": [
        "# Enqueue - Add an element to the right - O(1)\n",
        "\n",
        "q.append(5)\n",
        "q.append(6)\n",
        "q.append(7)\n",
        "\n",
        "print(q)"
      ],
      "metadata": {
        "colab": {
          "base_uri": "https://localhost:8080/"
        },
        "id": "cdiGjVrh97nj",
        "outputId": "0a458ddd-831f-4c1d-e272-afd4fb3d8ca7"
      },
      "execution_count": 9,
      "outputs": [
        {
          "output_type": "stream",
          "name": "stdout",
          "text": [
            "deque([5, 6, 7])\n"
          ]
        }
      ]
    },
    {
      "cell_type": "code",
      "source": [
        "# Dequeue(popleft) - Remove element from the left - O(1)\n",
        "\n",
        "q.popleft()"
      ],
      "metadata": {
        "colab": {
          "base_uri": "https://localhost:8080/"
        },
        "id": "nShmC1XA-K4O",
        "outputId": "fa0f5325-e73a-47be-9a6d-3d65c6684ecf"
      },
      "execution_count": 10,
      "outputs": [
        {
          "output_type": "execute_result",
          "data": {
            "text/plain": [
              "5"
            ]
          },
          "metadata": {},
          "execution_count": 10
        }
      ]
    },
    {
      "cell_type": "code",
      "source": [
        "# Peek from left side - O(1)\n",
        "\n",
        "print(q[0])"
      ],
      "metadata": {
        "colab": {
          "base_uri": "https://localhost:8080/"
        },
        "id": "MoRAm8Ew-SUK",
        "outputId": "6e6b7e8d-72d8-4d10-f26c-63fcad2e7f59"
      },
      "execution_count": 11,
      "outputs": [
        {
          "output_type": "stream",
          "name": "stdout",
          "text": [
            "6\n"
          ]
        }
      ]
    },
    {
      "cell_type": "code",
      "source": [
        "# Peek from the right side - O(1)\n",
        "\n",
        "print(q[-1])"
      ],
      "metadata": {
        "colab": {
          "base_uri": "https://localhost:8080/"
        },
        "id": "8RVpIR2z-pZM",
        "outputId": "939a10d2-298d-4fc9-8fce-73add4ca7702"
      },
      "execution_count": 12,
      "outputs": [
        {
          "output_type": "stream",
          "name": "stdout",
          "text": [
            "7\n"
          ]
        }
      ]
    }
  ]
}