{
  "nbformat": 4,
  "nbformat_minor": 0,
  "metadata": {
    "colab": {
      "provenance": []
    },
    "kernelspec": {
      "name": "python3",
      "display_name": "Python 3"
    },
    "language_info": {
      "name": "python"
    }
  },
  "cells": [
    {
      "cell_type": "markdown",
      "source": [
        "### **Hash Sets**\n",
        "\n",
        "Basically set() in python"
      ],
      "metadata": {
        "id": "kqjKLimCdLKK"
      }
    },
    {
      "cell_type": "code",
      "execution_count": 1,
      "metadata": {
        "colab": {
          "base_uri": "https://localhost:8080/"
        },
        "id": "osh1VXLJbaJo",
        "outputId": "44e97137-a417-4fb2-9027-19b10cce028f"
      },
      "outputs": [
        {
          "output_type": "stream",
          "name": "stdout",
          "text": [
            "set()\n"
          ]
        }
      ],
      "source": [
        "s = set()\n",
        "print(s)"
      ]
    },
    {
      "cell_type": "code",
      "source": [
        "# Add item into set - O(1)\n",
        "\n",
        "s.add(1)\n",
        "s.add(3)\n",
        "s.add(2)\n",
        "\n",
        "print(s)"
      ],
      "metadata": {
        "colab": {
          "base_uri": "https://localhost:8080/"
        },
        "id": "GbSNc7b7b5Jw",
        "outputId": "2265b2b0-c934-4db5-cb8e-49f18411fe85"
      },
      "execution_count": 2,
      "outputs": [
        {
          "output_type": "stream",
          "name": "stdout",
          "text": [
            "{1, 2, 3}\n"
          ]
        }
      ]
    },
    {
      "cell_type": "code",
      "source": [
        "# Lookup if item in set - O(1)\n",
        "\n",
        "if 1 in s:\n",
        "    print(True)\n",
        "\n",
        "if 1 not in s:\n",
        "    print(True)"
      ],
      "metadata": {
        "colab": {
          "base_uri": "https://localhost:8080/"
        },
        "id": "MTJy5SgfcATO",
        "outputId": "8cb2f397-ff97-4943-856b-c6af027f51b6"
      },
      "execution_count": 5,
      "outputs": [
        {
          "output_type": "stream",
          "name": "stdout",
          "text": [
            "True\n"
          ]
        }
      ]
    },
    {
      "cell_type": "code",
      "source": [
        "#  Remove item from set - O(1)\n",
        "\n",
        "s.remove(3)\n",
        "\n",
        "print(s)"
      ],
      "metadata": {
        "colab": {
          "base_uri": "https://localhost:8080/"
        },
        "id": "qZFrB1GUcIlj",
        "outputId": "128e2fd4-e0f5-4e15-8dec-59f9aef898bc"
      },
      "execution_count": 7,
      "outputs": [
        {
          "output_type": "stream",
          "name": "stdout",
          "text": [
            "{1, 2}\n"
          ]
        }
      ]
    },
    {
      "cell_type": "code",
      "source": [
        "# Set Construction - O(s) --> s = length of the string\n",
        "test_string = 'aaaababbbbabababbababaaacccccceeeeeee'\n",
        "\n",
        "string_set = set(test_string)\n",
        "\n",
        "print(string_set)"
      ],
      "metadata": {
        "colab": {
          "base_uri": "https://localhost:8080/"
        },
        "id": "luM8uoJWcgEb",
        "outputId": "dcc89f75-0d0d-4286-e6f5-0eefc0538b6b"
      },
      "execution_count": 11,
      "outputs": [
        {
          "output_type": "stream",
          "name": "stdout",
          "text": [
            "{'b', 'a', 'e', 'c'}\n"
          ]
        }
      ]
    },
    {
      "cell_type": "code",
      "source": [
        "# Loop over items in set - O(n)\n",
        "for i in string_set:\n",
        "    print(i)"
      ],
      "metadata": {
        "colab": {
          "base_uri": "https://localhost:8080/"
        },
        "id": "Nbt_xX_1c0EV",
        "outputId": "82531a68-80e7-45d9-c5ef-c831994d9e21"
      },
      "execution_count": 13,
      "outputs": [
        {
          "output_type": "stream",
          "name": "stdout",
          "text": [
            "b\n",
            "a\n",
            "e\n",
            "c\n"
          ]
        }
      ]
    },
    {
      "cell_type": "markdown",
      "source": [
        "### **Hash Maps**\n",
        "\n",
        "Bascially Dictionary in Python"
      ],
      "metadata": {
        "id": "5qoFfLqgdSew"
      }
    },
    {
      "cell_type": "code",
      "source": [
        "d = {'josh': 1, 'john': 2, 'bob': 3}\n",
        "\n",
        "print(d)"
      ],
      "metadata": {
        "colab": {
          "base_uri": "https://localhost:8080/"
        },
        "id": "gVwGueqvdHnr",
        "outputId": "1bc203b5-9d86-4b29-b7c8-85b9c11e93e6"
      },
      "execution_count": 14,
      "outputs": [
        {
          "output_type": "stream",
          "name": "stdout",
          "text": [
            "{'josh': 1, 'john': 2, 'bob': 3}\n"
          ]
        }
      ]
    },
    {
      "cell_type": "code",
      "source": [
        "# Add key:val in dictionary/hashmap - O(1)\n",
        "\n",
        "d['alan'] = 4\n",
        "\n",
        "print(d)"
      ],
      "metadata": {
        "colab": {
          "base_uri": "https://localhost:8080/"
        },
        "id": "S9cVj8kXd6hw",
        "outputId": "01ef817c-08b6-4705-d960-481d1f3c7c4b"
      },
      "execution_count": 15,
      "outputs": [
        {
          "output_type": "stream",
          "name": "stdout",
          "text": [
            "{'josh': 1, 'john': 2, 'bob': 3, 'alan': 4}\n"
          ]
        }
      ]
    },
    {
      "cell_type": "code",
      "source": [
        "# Check for presence of key in dictionary - O(1)\n",
        "\n",
        "if 'john' in d:\n",
        "    print(True)"
      ],
      "metadata": {
        "colab": {
          "base_uri": "https://localhost:8080/"
        },
        "id": "zwNXC2EzeAb-",
        "outputId": "ae189741-32aa-4ac6-b13d-ca2f6a468cf8"
      },
      "execution_count": 17,
      "outputs": [
        {
          "output_type": "stream",
          "name": "stdout",
          "text": [
            "True\n"
          ]
        }
      ]
    },
    {
      "cell_type": "code",
      "source": [
        "# Check the value corresponding to a key in the dictionary/hashmaps - O(1)\n",
        "\n",
        "print(d['bob'])"
      ],
      "metadata": {
        "colab": {
          "base_uri": "https://localhost:8080/"
        },
        "id": "YdkPC29yeG4W",
        "outputId": "a98e86a1-ca20-4533-9bb3-2ac019a66822"
      },
      "execution_count": 18,
      "outputs": [
        {
          "output_type": "stream",
          "name": "stdout",
          "text": [
            "3\n"
          ]
        }
      ]
    },
    {
      "cell_type": "code",
      "source": [
        "# Loop over the key:value pairs of the dictionary/hashmaps\n",
        "\n",
        "for key, value in d.items():\n",
        "    print(f\"Key - {key}, Value - {value}\")"
      ],
      "metadata": {
        "colab": {
          "base_uri": "https://localhost:8080/"
        },
        "id": "uamWAsubenq5",
        "outputId": "2d30f337-7b54-401f-a6e3-9c0705cbf1df"
      },
      "execution_count": 20,
      "outputs": [
        {
          "output_type": "stream",
          "name": "stdout",
          "text": [
            "Key - josh, Value - 1\n",
            "Key - john, Value - 2\n",
            "Key - bob, Value - 3\n",
            "Key - alan, Value - 4\n"
          ]
        }
      ]
    },
    {
      "cell_type": "markdown",
      "source": [
        "#### Special Hashmaps/Dictionaries"
      ],
      "metadata": {
        "id": "9h2Y4GfJfVJh"
      }
    },
    {
      "cell_type": "code",
      "source": [
        "# Defaultdict\n",
        "\n",
        "from collections import defaultdict\n",
        "\n",
        "def_dict = defaultdict(int)"
      ],
      "metadata": {
        "id": "4GcX5KN0fEjy"
      },
      "execution_count": 21,
      "outputs": []
    },
    {
      "cell_type": "code",
      "source": [
        "print(def_dict[3])"
      ],
      "metadata": {
        "colab": {
          "base_uri": "https://localhost:8080/"
        },
        "id": "ipaJ-_gAfOUP",
        "outputId": "7da20d8d-1ab4-45a7-a1af-0a315350ed22"
      },
      "execution_count": 22,
      "outputs": [
        {
          "output_type": "stream",
          "name": "stdout",
          "text": [
            "0\n"
          ]
        }
      ]
    },
    {
      "cell_type": "code",
      "source": [
        "print(def_dict)"
      ],
      "metadata": {
        "colab": {
          "base_uri": "https://localhost:8080/"
        },
        "id": "6OO5B9nRfR1n",
        "outputId": "dffc3822-c323-4f9b-daa5-155876a5982e"
      },
      "execution_count": 23,
      "outputs": [
        {
          "output_type": "stream",
          "name": "stdout",
          "text": [
            "defaultdict(<class 'int'>, {3: 0})\n"
          ]
        }
      ]
    },
    {
      "cell_type": "code",
      "source": [
        "def_dict_list = defaultdict(list)\n",
        "print(def_dict_list[7])\n",
        "print(def_dict_list)"
      ],
      "metadata": {
        "colab": {
          "base_uri": "https://localhost:8080/"
        },
        "id": "eVgPFkvIfhcN",
        "outputId": "453c3e1f-06c8-404b-a465-0169eb004049"
      },
      "execution_count": 25,
      "outputs": [
        {
          "output_type": "stream",
          "name": "stdout",
          "text": [
            "[]\n",
            "defaultdict(<class 'list'>, {7: []})\n"
          ]
        }
      ]
    },
    {
      "cell_type": "code",
      "source": [
        "# Counter\n",
        "\n",
        "from collections import Counter\n",
        "\n",
        "str_counter = Counter(test_string)\n",
        "\n",
        "print(str_counter)"
      ],
      "metadata": {
        "colab": {
          "base_uri": "https://localhost:8080/"
        },
        "id": "V738hjEufS2T",
        "outputId": "da04ca8e-0388-42f8-a65a-a1d97b06f8da"
      },
      "execution_count": 26,
      "outputs": [
        {
          "output_type": "stream",
          "name": "stdout",
          "text": [
            "Counter({'a': 13, 'b': 11, 'e': 7, 'c': 6})\n"
          ]
        }
      ]
    }
  ]
}