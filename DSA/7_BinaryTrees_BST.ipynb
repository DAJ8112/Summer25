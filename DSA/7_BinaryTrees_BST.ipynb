{
  "nbformat": 4,
  "nbformat_minor": 0,
  "metadata": {
    "colab": {
      "provenance": []
    },
    "kernelspec": {
      "name": "python3",
      "display_name": "Python 3"
    },
    "language_info": {
      "name": "python"
    }
  },
  "cells": [
    {
      "cell_type": "markdown",
      "source": [
        "### **Binary Trees**"
      ],
      "metadata": {
        "id": "z5Ky8vKoOfDT"
      }
    },
    {
      "cell_type": "code",
      "execution_count": 1,
      "metadata": {
        "id": "iKAN1--T2m02"
      },
      "outputs": [],
      "source": [
        "class TreeNode:\n",
        "    def __init__(self, val, left=None, right=None):\n",
        "        self.val = val\n",
        "        self.left = left\n",
        "        self.right = right\n",
        "\n",
        "    def __str__(self):\n",
        "        return str(self.val)"
      ]
    },
    {
      "cell_type": "code",
      "source": [
        "#         1\n",
        "#       /    \\\n",
        "#     2        3\n",
        "#   /   \\     /\n",
        "#  4     5   10"
      ],
      "metadata": {
        "id": "CNKsv4_HGnFD"
      },
      "execution_count": 10,
      "outputs": []
    },
    {
      "cell_type": "code",
      "source": [
        "A = TreeNode(1)\n",
        "B = TreeNode(2)\n",
        "C = TreeNode(3)\n",
        "D = TreeNode(4)\n",
        "E = TreeNode(5)\n",
        "F = TreeNode(10)\n",
        "\n",
        "A.left = B\n",
        "A.right = C\n",
        "B.left = D\n",
        "B.right = E\n",
        "C.left = F\n",
        "\n",
        "print(A)"
      ],
      "metadata": {
        "colab": {
          "base_uri": "https://localhost:8080/"
        },
        "id": "NCKIX_LpFiVF",
        "outputId": "f12c6372-0680-4081-ed10-3ae0c4890742"
      },
      "execution_count": 2,
      "outputs": [
        {
          "output_type": "stream",
          "name": "stdout",
          "text": [
            "1\n"
          ]
        }
      ]
    },
    {
      "cell_type": "code",
      "source": [
        "# Recursive Pre-Order Traversal (DFS)\n",
        "# Time - O(n)\n",
        "# Space - O(n)\n",
        "\n",
        "def pre_order(node):\n",
        "    if not node:\n",
        "        return\n",
        "\n",
        "    print(node)\n",
        "    pre_order(node.left)\n",
        "    pre_order(node.right)\n",
        "\n",
        "pre_order(A)"
      ],
      "metadata": {
        "colab": {
          "base_uri": "https://localhost:8080/"
        },
        "id": "ICELZhLKF3BA",
        "outputId": "8f42b749-d007-4e47-db9e-9628fa3d640b"
      },
      "execution_count": 3,
      "outputs": [
        {
          "output_type": "stream",
          "name": "stdout",
          "text": [
            "1\n",
            "2\n",
            "4\n",
            "5\n",
            "3\n",
            "10\n"
          ]
        }
      ]
    },
    {
      "cell_type": "code",
      "source": [
        "# Recursive Inorder (Time - O(n), Space - O(n))\n",
        "\n",
        "def in_order(node):\n",
        "    if not node:\n",
        "        return\n",
        "\n",
        "    in_order(node.left)\n",
        "    print(node)\n",
        "    in_order(node.right)\n",
        "\n",
        "in_order(A)"
      ],
      "metadata": {
        "colab": {
          "base_uri": "https://localhost:8080/"
        },
        "id": "06u8k7OUGjiY",
        "outputId": "b132ae5d-a8b3-4734-b360-f082d7325515"
      },
      "execution_count": 6,
      "outputs": [
        {
          "output_type": "stream",
          "name": "stdout",
          "text": [
            "4\n",
            "2\n",
            "5\n",
            "1\n",
            "10\n",
            "3\n"
          ]
        }
      ]
    },
    {
      "cell_type": "code",
      "source": [
        "# Recursive PostOrder (Time - O(n), Space - O(n))\n",
        "\n",
        "def post_order(node):\n",
        "    if not node:\n",
        "        return\n",
        "\n",
        "    post_order(node.left)\n",
        "    post_order(node.right)\n",
        "    print(node)\n",
        "\n",
        "post_order(A)"
      ],
      "metadata": {
        "colab": {
          "base_uri": "https://localhost:8080/"
        },
        "id": "WkFJA9PKHoFx",
        "outputId": "11b89e23-e925-4f13-b868-7a86a0a73cf8"
      },
      "execution_count": 7,
      "outputs": [
        {
          "output_type": "stream",
          "name": "stdout",
          "text": [
            "4\n",
            "5\n",
            "2\n",
            "10\n",
            "3\n",
            "1\n"
          ]
        }
      ]
    },
    {
      "cell_type": "code",
      "source": [
        "# Iterative Pre Order Traversal (DFS)\n",
        "# Time O(n), Space O(n)\n",
        "\n",
        "def pre_order_iterative(node):\n",
        "    stk = [node]\n",
        "\n",
        "    while stk:\n",
        "        node = stk.pop()\n",
        "\n",
        "        if node.right:\n",
        "            stk.append(node.right)\n",
        "\n",
        "        if node.left:\n",
        "            stk.append(node.left)\n",
        "\n",
        "        print(node)\n",
        "\n",
        "pre_order_iterative(A)"
      ],
      "metadata": {
        "colab": {
          "base_uri": "https://localhost:8080/"
        },
        "id": "na45N4tKH5Ti",
        "outputId": "7e78ba73-04e0-44fe-c992-c20604fd8363"
      },
      "execution_count": 8,
      "outputs": [
        {
          "output_type": "stream",
          "name": "stdout",
          "text": [
            "1\n",
            "2\n",
            "4\n",
            "5\n",
            "3\n",
            "10\n"
          ]
        }
      ]
    },
    {
      "cell_type": "code",
      "source": [
        "# Level Order Traversal (BFS)\n",
        "# Time - O(n)\n",
        "# Space - O(n)\n",
        "\n",
        "from collections import deque\n",
        "\n",
        "def level_order(node):\n",
        "    q = deque()\n",
        "    q.append(node)\n",
        "\n",
        "    while q:\n",
        "        node = q.popleft()\n",
        "        print(node)\n",
        "\n",
        "        if node.left:\n",
        "            q.append(node.left)\n",
        "\n",
        "        if node.right:\n",
        "            q.append(node.right)\n",
        "\n",
        "level_order(A)"
      ],
      "metadata": {
        "colab": {
          "base_uri": "https://localhost:8080/"
        },
        "id": "1meuPtUXMyr3",
        "outputId": "6c468e21-afe3-4bdc-9623-0fb8e7db9ee3"
      },
      "execution_count": 9,
      "outputs": [
        {
          "output_type": "stream",
          "name": "stdout",
          "text": [
            "1\n",
            "2\n",
            "3\n",
            "4\n",
            "5\n",
            "10\n"
          ]
        }
      ]
    },
    {
      "cell_type": "code",
      "source": [
        "# Check if value exists - using DFS - Time & Space - O(n)\n",
        "\n",
        "def search(node, target):\n",
        "    if not node:\n",
        "        return False\n",
        "\n",
        "    if node.val == target:\n",
        "        return True\n",
        "\n",
        "    return search(node.left, target) or search(node.right, target)\n",
        "\n",
        "print(search(A, 6))\n",
        "print(search(A, 11))\n",
        "print(search(A, 5))\n",
        "print(search(A, 10))"
      ],
      "metadata": {
        "colab": {
          "base_uri": "https://localhost:8080/"
        },
        "id": "hQfCPnbSNuo_",
        "outputId": "2ec30671-4d41-4c74-c18a-452964312d68"
      },
      "execution_count": 14,
      "outputs": [
        {
          "output_type": "stream",
          "name": "stdout",
          "text": [
            "False\n",
            "False\n",
            "True\n",
            "True\n"
          ]
        }
      ]
    },
    {
      "cell_type": "markdown",
      "source": [
        "### **Binary Search Trees**"
      ],
      "metadata": {
        "id": "BfswyzAvOh9H"
      }
    },
    {
      "cell_type": "code",
      "source": [
        "#       5\n",
        "#    1    8\n",
        "#  -1 3  7 9\n",
        "\n",
        "A2 = TreeNode(5)\n",
        "B2 = TreeNode(1)\n",
        "C2 = TreeNode(8)\n",
        "D2 = TreeNode(-1)\n",
        "E2 = TreeNode(3)\n",
        "F2 = TreeNode(7)\n",
        "G2 = TreeNode(9)\n",
        "\n",
        "A2.left, A2.right = B2, C2\n",
        "B2.left, B2.right = D2, E2\n",
        "C2.left, C2.right = F2, G2\n",
        "\n",
        "print(A2)"
      ],
      "metadata": {
        "colab": {
          "base_uri": "https://localhost:8080/"
        },
        "id": "DY2xm1f-OMrl",
        "outputId": "1a2e0f83-cbb1-466b-b4ce-69c2b22f4fc6"
      },
      "execution_count": 15,
      "outputs": [
        {
          "output_type": "stream",
          "name": "stdout",
          "text": [
            "5\n"
          ]
        }
      ]
    },
    {
      "cell_type": "code",
      "source": [
        "in_order(A2)"
      ],
      "metadata": {
        "colab": {
          "base_uri": "https://localhost:8080/"
        },
        "id": "hEnHmnSyO4Bw",
        "outputId": "fa80ecc7-693b-49d8-e372-1055b50c9c9f"
      },
      "execution_count": 16,
      "outputs": [
        {
          "output_type": "stream",
          "name": "stdout",
          "text": [
            "-1\n",
            "1\n",
            "3\n",
            "5\n",
            "7\n",
            "8\n",
            "9\n"
          ]
        }
      ]
    },
    {
      "cell_type": "code",
      "source": [
        "# search -\n",
        "# Time - O(log n), Space - O(log n) --> assuming a balanced tree\n",
        "\n",
        "\n",
        "def search(node, target):\n",
        "    if not node:\n",
        "        return False\n",
        "\n",
        "    if node.val == target:\n",
        "        return True\n",
        "\n",
        "    if node.val>target:\n",
        "        return search(node.left, target)\n",
        "    else:\n",
        "        return search(node.right, target)\n",
        "\n",
        "print(search(A2, 9))\n",
        "print(search(A2, 10))\n",
        "print(search(A2, -1))\n"
      ],
      "metadata": {
        "colab": {
          "base_uri": "https://localhost:8080/"
        },
        "id": "UXpbxR7ZO6zT",
        "outputId": "a40a7072-f5d6-4e80-cd88-b03d66f1cf77"
      },
      "execution_count": 21,
      "outputs": [
        {
          "output_type": "stream",
          "name": "stdout",
          "text": [
            "True\n",
            "False\n",
            "True\n"
          ]
        }
      ]
    },
    {
      "cell_type": "code",
      "source": [],
      "metadata": {
        "id": "Z4riZDFNPvPD"
      },
      "execution_count": null,
      "outputs": []
    }
  ]
}