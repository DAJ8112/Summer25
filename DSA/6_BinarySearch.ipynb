{
  "nbformat": 4,
  "nbformat_minor": 0,
  "metadata": {
    "colab": {
      "provenance": []
    },
    "kernelspec": {
      "name": "python3",
      "display_name": "Python 3"
    },
    "language_info": {
      "name": "python"
    }
  },
  "cells": [
    {
      "cell_type": "code",
      "execution_count": null,
      "metadata": {
        "id": "uNwLrKTgM3Rl"
      },
      "outputs": [],
      "source": [
        "arr = [-5, -2.3, 0, 5, 7, 8, 11]"
      ]
    },
    {
      "cell_type": "code",
      "source": [
        "def binary_search(arr, to_search):\n",
        "    L = 0\n",
        "    R = len(arr)-1\n",
        "    M = L + ((R-L)//2)\n",
        "\n",
        "    while L<=R:\n",
        "        if arr[M] == to_search:\n",
        "            return M\n",
        "        elif to_search<arr[M]:\n",
        "            R = M - 1\n",
        "        elif to_search>arr[M]:\n",
        "            L = M + 1\n",
        "        M = L + ((R-L)//2)\n",
        "\n",
        "\n",
        "print(binary_search(arr, -2.3))"
      ],
      "metadata": {
        "colab": {
          "base_uri": "https://localhost:8080/"
        },
        "id": "G3p7LTsENCQT",
        "outputId": "1fdec7be-8a57-4e9e-f4ad-422a4deb49d9"
      },
      "execution_count": null,
      "outputs": [
        {
          "output_type": "stream",
          "name": "stdout",
          "text": [
            "1\n"
          ]
        }
      ]
    },
    {
      "cell_type": "code",
      "source": [],
      "metadata": {
        "id": "Iav4ucITNEM5"
      },
      "execution_count": null,
      "outputs": []
    }
  ]
}