{
  "nbformat": 4,
  "nbformat_minor": 0,
  "metadata": {
    "colab": {
      "provenance": []
    },
    "kernelspec": {
      "name": "python3",
      "display_name": "Python 3"
    },
    "language_info": {
      "name": "python"
    }
  },
  "cells": [
    {
      "cell_type": "markdown",
      "source": [
        "### **Heaps**"
      ],
      "metadata": {
        "id": "l8210rvubNlq"
      }
    },
    {
      "cell_type": "code",
      "execution_count": 1,
      "metadata": {
        "id": "fN3KknEPaWTW",
        "colab": {
          "base_uri": "https://localhost:8080/"
        },
        "outputId": "332e9bb5-4d96-488f-decf-35d4d2f678b3"
      },
      "outputs": [
        {
          "output_type": "execute_result",
          "data": {
            "text/plain": [
              "[-4, 0, 1, 3, 2, 5, 10, 8, 12, 9]"
            ]
          },
          "metadata": {},
          "execution_count": 1
        }
      ],
      "source": [
        "# Build Min Heap (Heapify) --> Time: O(n), Space: O(1)\n",
        "\n",
        "A = [-4, 3, 1, 0, 2, 5, 10, 8, 12, 9]\n",
        "\n",
        "import heapq\n",
        "heapq.heapify(A)\n",
        "\n",
        "A"
      ]
    },
    {
      "cell_type": "code",
      "source": [
        "# Heap Push (insert element) -> Time: O(log n)\n",
        "\n",
        "heapq.heappush(A, 4)\n",
        "\n",
        "A"
      ],
      "metadata": {
        "colab": {
          "base_uri": "https://localhost:8080/"
        },
        "id": "e371-jUtbbrv",
        "outputId": "a8d20e6a-7b8b-4e56-df10-c459671d7e77"
      },
      "execution_count": 2,
      "outputs": [
        {
          "output_type": "execute_result",
          "data": {
            "text/plain": [
              "[-4, 0, 1, 3, 2, 5, 10, 8, 12, 9, 4]"
            ]
          },
          "metadata": {},
          "execution_count": 2
        }
      ]
    },
    {
      "cell_type": "code",
      "source": [
        "# Heap Pop (extract min) --> Time: O(log n)\n",
        "\n",
        "min = heapq.heappop(A)\n",
        "\n",
        "A, min"
      ],
      "metadata": {
        "colab": {
          "base_uri": "https://localhost:8080/"
        },
        "id": "f_wQXaLGbjcQ",
        "outputId": "1903f4d2-4394-4e1c-bb0b-d70d307dc8e0"
      },
      "execution_count": 3,
      "outputs": [
        {
          "output_type": "execute_result",
          "data": {
            "text/plain": [
              "([0, 2, 1, 3, 4, 5, 10, 8, 12, 9], -4)"
            ]
          },
          "metadata": {},
          "execution_count": 3
        }
      ]
    },
    {
      "cell_type": "code",
      "source": [
        "# Heap Sort --> Time: (n log n), Space: O(n)\n",
        "# there's a way where O(1) space is possible, but it's just a bit complex\n",
        "\n",
        "\n",
        "def heapsort(arr):\n",
        "    heapq.heapify(arr)\n",
        "    n = len(arr)\n",
        "    new_list = [0] * n # if we swap and do inplace changes then it's O(1)\n",
        "\n",
        "    for i in range(n):\n",
        "        min = heapq.heappop(arr)\n",
        "        new_list[i] = min\n",
        "\n",
        "    return new_list\n",
        "\n",
        "\n",
        "heapsort([1, 3, 5, 7, 9, 2, 4, 6, 8, 0])"
      ],
      "metadata": {
        "colab": {
          "base_uri": "https://localhost:8080/"
        },
        "id": "nRGEVilsb0Og",
        "outputId": "ef93954d-cf14-4204-b9d1-a56b69617e5b"
      },
      "execution_count": 4,
      "outputs": [
        {
          "output_type": "execute_result",
          "data": {
            "text/plain": [
              "[0, 1, 2, 3, 4, 5, 6, 7, 8, 9]"
            ]
          },
          "metadata": {},
          "execution_count": 4
        }
      ]
    },
    {
      "cell_type": "code",
      "source": [
        "# Heap Push Pop --> Time: O(log n)\n",
        "# basically pushes and then pops\n",
        "\n",
        "print(A)\n",
        "heapq.heappushpop(A, 99)\n",
        "print(A)"
      ],
      "metadata": {
        "colab": {
          "base_uri": "https://localhost:8080/"
        },
        "id": "nLEjKolBcaD9",
        "outputId": "413b1dd9-9588-4a07-fc01-4e51598e4613"
      },
      "execution_count": 6,
      "outputs": [
        {
          "output_type": "stream",
          "name": "stdout",
          "text": [
            "[0, 2, 1, 3, 4, 5, 10, 8, 12, 9]\n",
            "[1, 2, 5, 3, 4, 99, 10, 8, 12, 9]\n"
          ]
        }
      ]
    },
    {
      "cell_type": "code",
      "source": [
        "# Peek at Min --> Time: O(1)\n",
        "\n",
        "A[0]"
      ],
      "metadata": {
        "colab": {
          "base_uri": "https://localhost:8080/"
        },
        "id": "hIDcYmJydmqR",
        "outputId": "4bb5f86d-ab27-4773-e213-84e8bfef454f"
      },
      "execution_count": 10,
      "outputs": [
        {
          "output_type": "execute_result",
          "data": {
            "text/plain": [
              "1"
            ]
          },
          "metadata": {},
          "execution_count": 10
        }
      ]
    },
    {
      "cell_type": "markdown",
      "source": [
        "### **Max Heaps**\n",
        "\n",
        "heapq doesn't support Max Heaps --> so we basically negate everything in the min heap which makes it behave as a max heap."
      ],
      "metadata": {
        "id": "CRG9OEiNdGpT"
      }
    },
    {
      "cell_type": "code",
      "source": [
        "B = [-4, 3, 1, 0, 2, 5, 10, 8, 12, 9]\n",
        "n = len(B)\n",
        "\n",
        "for i in range(n):\n",
        "    B[i] = -B[i]\n",
        "\n",
        "heapq.heapify(B)\n",
        "\n",
        "B"
      ],
      "metadata": {
        "colab": {
          "base_uri": "https://localhost:8080/"
        },
        "id": "-mikrZ0IcxaH",
        "outputId": "7ce1e19e-ec6e-4ae7-d3db-d138c57c2f0a"
      },
      "execution_count": 7,
      "outputs": [
        {
          "output_type": "execute_result",
          "data": {
            "text/plain": [
              "[-12, -9, -10, -8, -2, -5, -1, -3, 0, 4]"
            ]
          },
          "metadata": {},
          "execution_count": 7
        }
      ]
    },
    {
      "cell_type": "code",
      "source": [
        "largest = -heapq.heappop(B)\n",
        "\n",
        "largest"
      ],
      "metadata": {
        "colab": {
          "base_uri": "https://localhost:8080/"
        },
        "id": "6YNt2VE0dXnL",
        "outputId": "88b5e56b-74a0-436c-fe55-1135178ae2da"
      },
      "execution_count": 8,
      "outputs": [
        {
          "output_type": "execute_result",
          "data": {
            "text/plain": [
              "12"
            ]
          },
          "metadata": {},
          "execution_count": 8
        }
      ]
    },
    {
      "cell_type": "code",
      "source": [
        "heapq.heappush(B, -7) # this inserts 7 and not -7\n",
        "\n",
        "B"
      ],
      "metadata": {
        "colab": {
          "base_uri": "https://localhost:8080/"
        },
        "id": "KfvHLlSDdeVK",
        "outputId": "52d1abb6-3415-4519-a467-fa2ce70cb6a0"
      },
      "execution_count": 9,
      "outputs": [
        {
          "output_type": "execute_result",
          "data": {
            "text/plain": [
              "[-10, -9, -5, -8, -7, 4, -1, -3, 0, -2]"
            ]
          },
          "metadata": {},
          "execution_count": 9
        }
      ]
    },
    {
      "cell_type": "code",
      "source": [
        "# Build heap from scratch --> Time : O(n log n) -- slower than heapify !\n",
        "\n",
        "C = [-5, 4, 2, 1, 7, 0, 3]\n",
        "\n",
        "heap = []\n",
        "\n",
        "for x in C:\n",
        "    heapq.heappush(heap, x)\n",
        "    print(heap)"
      ],
      "metadata": {
        "colab": {
          "base_uri": "https://localhost:8080/"
        },
        "id": "GYMO7l7Iduhc",
        "outputId": "36e96fc7-2eee-47bf-cd0d-6281e1788b3b"
      },
      "execution_count": 11,
      "outputs": [
        {
          "output_type": "stream",
          "name": "stdout",
          "text": [
            "[-5]\n",
            "[-5, 4]\n",
            "[-5, 4, 2]\n",
            "[-5, 1, 2, 4]\n",
            "[-5, 1, 2, 4, 7]\n",
            "[-5, 1, 0, 4, 7, 2]\n",
            "[-5, 1, 0, 4, 7, 2, 3]\n"
          ]
        }
      ]
    },
    {
      "cell_type": "markdown",
      "source": [
        "### **Putting tuples of items on the heap**"
      ],
      "metadata": {
        "id": "ziphxoaAeRAC"
      }
    },
    {
      "cell_type": "code",
      "source": [
        "D = [5, 4 ,3, 5, 4, 3, 5, 5, 4]\n",
        "\n",
        "from collections import Counter\n",
        "\n",
        "counter = Counter(D)\n",
        "counter"
      ],
      "metadata": {
        "colab": {
          "base_uri": "https://localhost:8080/"
        },
        "id": "ONf8qZr0d4Ap",
        "outputId": "4c7506be-22d4-4201-d3cc-58857d7da212"
      },
      "execution_count": 13,
      "outputs": [
        {
          "output_type": "execute_result",
          "data": {
            "text/plain": [
              "Counter({5: 4, 4: 3, 3: 2})"
            ]
          },
          "metadata": {},
          "execution_count": 13
        }
      ]
    },
    {
      "cell_type": "code",
      "source": [
        "heap = []\n",
        "\n",
        "for k, v in counter.items():\n",
        "    heapq.heappush(heap, (v, k))\n",
        "\n",
        "heap\n",
        "\n",
        "# the tuple is sorted first by v, and if there are ties then by k"
      ],
      "metadata": {
        "colab": {
          "base_uri": "https://localhost:8080/"
        },
        "id": "6g9IBwOAecZL",
        "outputId": "738986a2-24fd-4b5c-d2b9-002f89f6d29d"
      },
      "execution_count": 14,
      "outputs": [
        {
          "output_type": "execute_result",
          "data": {
            "text/plain": [
              "[(2, 3), (4, 5), (3, 4)]"
            ]
          },
          "metadata": {},
          "execution_count": 14
        }
      ]
    }
  ]
}